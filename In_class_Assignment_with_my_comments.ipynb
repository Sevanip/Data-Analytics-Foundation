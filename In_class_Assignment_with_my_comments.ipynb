{
  "nbformat": 4,
  "nbformat_minor": 0,
  "metadata": {
    "colab": {
      "provenance": [],
      "include_colab_link": true
    },
    "kernelspec": {
      "name": "python3",
      "display_name": "Python 3"
    },
    "language_info": {
      "name": "python"
    }
  },
  "cells": [
    {
      "cell_type": "markdown",
      "metadata": {
        "id": "view-in-github",
        "colab_type": "text"
      },
      "source": [
        "<a href=\"https://colab.research.google.com/github/Sevanip/Data-Analytics-Foundation/blob/main/In_class_Assignment_with_my_comments.ipynb\" target=\"_parent\"><img src=\"https://colab.research.google.com/assets/colab-badge.svg\" alt=\"Open In Colab\"/></a>"
      ]
    },
    {
      "cell_type": "markdown",
      "source": [
        "## Create 5 Car name variables"
      ],
      "metadata": {
        "id": "OU2Ji9Rcpj2D"
      }
    },
    {
      "cell_type": "code",
      "source": [
        "var1 = 'Honda'\n",
        "var1"
      ],
      "metadata": {
        "id": "rm9r3VxZp1lT",
        "colab": {
          "base_uri": "https://localhost:8080/",
          "height": 35
        },
        "outputId": "929e31e7-529b-4d1f-a441-8a26876d5b99"
      },
      "execution_count": null,
      "outputs": [
        {
          "output_type": "execute_result",
          "data": {
            "text/plain": [
              "'Honda'"
            ],
            "application/vnd.google.colaboratory.intrinsic+json": {
              "type": "string"
            }
          },
          "metadata": {},
          "execution_count": 14
        }
      ]
    },
    {
      "cell_type": "code",
      "source": [
        "var2 = 'Toyota'\n",
        "var2"
      ],
      "metadata": {
        "id": "D5sgeW1Sp1fR",
        "colab": {
          "base_uri": "https://localhost:8080/",
          "height": 35
        },
        "outputId": "c15284cc-24a1-48ad-a4e6-53485e94b5a7"
      },
      "execution_count": null,
      "outputs": [
        {
          "output_type": "execute_result",
          "data": {
            "text/plain": [
              "'Toyota'"
            ],
            "application/vnd.google.colaboratory.intrinsic+json": {
              "type": "string"
            }
          },
          "metadata": {},
          "execution_count": 7
        }
      ]
    },
    {
      "cell_type": "code",
      "source": [
        "var3 = 'Infinity'\n",
        "var4 = 'BMW'\n",
        "var5 = 'Tesla'\n",
        "''' here i used var as my variable to assign car names, however i could've also called my variable car, car1, car2, car3\n",
        "once i assign a variable for a specific car name when writing my code i do not long have to type that car name i can just use the variable i assign to it. \n",
        "If i were to type the car name i would have to include quotes and all but assigning a variable just makes it easier\n",
        "\n",
        " '''"
      ],
      "metadata": {
        "id": "3C0hd5sTp1b7"
      },
      "execution_count": null,
      "outputs": []
    },
    {
      "cell_type": "markdown",
      "source": [
        "## Create 5 number variables"
      ],
      "metadata": {
        "id": "-KXRQrydp1Yx"
      }
    },
    {
      "cell_type": "code",
      "source": [
        "num1 = 22  \n",
        "'''\n",
        "here i assinged a number to my variables num1,num2, num3, num4 and num5 which i can use throughout my code when needed. \n",
        "'''\n",
        "num1"
      ],
      "metadata": {
        "id": "l37HJwJ_p8kP",
        "colab": {
          "base_uri": "https://localhost:8080/"
        },
        "outputId": "56dd87f7-2fff-4b11-87cb-4ffb740ff349"
      },
      "execution_count": null,
      "outputs": [
        {
          "output_type": "execute_result",
          "data": {
            "text/plain": [
              "22"
            ]
          },
          "metadata": {},
          "execution_count": 19
        }
      ]
    },
    {
      "cell_type": "code",
      "source": [
        "num2 = 12\n",
        "num3 = 35\n",
        "num4 = 62\n",
        "num5 = 101"
      ],
      "metadata": {
        "id": "vObrRVhzp8hw"
      },
      "execution_count": null,
      "outputs": []
    },
    {
      "cell_type": "code",
      "source": [],
      "metadata": {
        "id": "rhSkRsZ8p8ex"
      },
      "execution_count": null,
      "outputs": []
    },
    {
      "cell_type": "markdown",
      "source": [
        "## Write a script to calculate the are of a triangle"
      ],
      "metadata": {
        "id": "IbtnBwg4p8b8"
      }
    },
    {
      "cell_type": "code",
      "source": [
        "# the area of a triangle is 1/2 base * height\n",
        "\"\"\" Using python to create a program to calculate the area of a triangle. we know that the area of a triangle is 1/2Base * height. Using the\n",
        "formula i first create 2 variables called Base, line 7, and height, line 8, and then assign them a value each. I created a 3rd variable line 9 \n",
        "and called it area_of_a_traingle, this variable i assign it the value (o.5*Base) *height i.e. area of a triangle formula. In line 10 when i call\n",
        "my variable area_of_a_triangle it calculates the area using the formula and the value i assigned so Base will be 6 and height will be 12,\n",
        "(0.5 *6)*12 will give 36.0 as seen below\"\"\"\n",
        "Base = 6\n",
        "height = 12\n",
        "area_of_a_triangle = (0.5*Base) *height\n",
        "area_of_a_triangle\n"
      ],
      "metadata": {
        "id": "2cKrFMv1qQro",
        "colab": {
          "base_uri": "https://localhost:8080/"
        },
        "outputId": "31c6decd-0335-470f-881f-22ba80d3c35a"
      },
      "execution_count": null,
      "outputs": [
        {
          "output_type": "execute_result",
          "data": {
            "text/plain": [
              "36.0"
            ]
          },
          "metadata": {},
          "execution_count": 22
        }
      ]
    },
    {
      "cell_type": "code",
      "source": [
        "print(f'The area of a triangle {area_of_a_triangle}  meters squared') \n",
        "\"\"\"\n",
        "Instead of just printing 36 i can tell python to print i more fancy message like, the area of a triangle is 36 meters squared. \n",
        "so here i used F-string (f) - F-strings provide a way to embed expressions inside string literals, using a minimal syntax. the expressions\n",
        "or variable i want to call are in curly brackets{}, {area_of_a_traingle} and will be replaced with their values in this case 36. \n",
        "It is prefixed with 'f' \n",
        "and the entire expression is in single quote''.\n",
        "\"\"\""
      ],
      "metadata": {
        "id": "O6CDw1zGqRbF",
        "colab": {
          "base_uri": "https://localhost:8080/"
        },
        "outputId": "33f30b19-92db-439c-b959-c43df4fd52bc"
      },
      "execution_count": null,
      "outputs": [
        {
          "output_type": "stream",
          "name": "stdout",
          "text": [
            "The area of a triangle 36.0  meters squared\n"
          ]
        }
      ]
    },
    {
      "cell_type": "code",
      "source": [],
      "metadata": {
        "id": "rI_v-tTLqRXT"
      },
      "execution_count": null,
      "outputs": []
    },
    {
      "cell_type": "markdown",
      "source": [
        "## Write a script to calculate the area of a rectagle"
      ],
      "metadata": {
        "id": "7OnL2vSZqRUT"
      }
    },
    {
      "cell_type": "code",
      "source": [
        "# the area of a rectangle is lenght * width \n",
        "\"\"\" Using python to create a program to calculate the area of a rectangle. we know that the area of a rectangle is lenght * width. Using the\n",
        "formula i first create 2 variables called lenght, line 7, and width, line 8, and then assign them a value each. I created a 3rd variable line 9 \n",
        "and called it area_of_a_traingle, this variable i assign it the value (o.5*Base) *height i.e. area of a triangle formula. In line 10 when i call\n",
        "my variable area_of_a_rectangle it calculates the area using the formula and the value i assigned so lenght will be 22 and width will be 43,\n",
        "22*43 will give 946 as seen below\"\"\"\n",
        "lenght = 22\n",
        "width = 43\n",
        "area_of_a_rectangle = lenght * width\n",
        "area_of_a_rectangle"
      ],
      "metadata": {
        "id": "Svi5uhQHqSEf",
        "colab": {
          "base_uri": "https://localhost:8080/"
        },
        "outputId": "a56e3c33-8697-47bc-f62b-7d90f8879344"
      },
      "execution_count": null,
      "outputs": [
        {
          "output_type": "execute_result",
          "data": {
            "text/plain": [
              "946"
            ]
          },
          "metadata": {},
          "execution_count": 24
        }
      ]
    },
    {
      "cell_type": "code",
      "source": [
        "print(f'The area of a rectangle {area_of_a_rectangle}  meters squared')\n",
        "\"\"\"\n",
        "Instead of just printing 946 i can tell python to print a more fancy message like, the area of a rectangle is 946 meters squared. \n",
        "so here i used F-string (f) - F-strings provide a way to embed expressions inside string literals, using a minimal syntax. the expressions\n",
        "or variable i want to call are in curly brackets{}, {area_of_a_rectangle} and will be replaced with their values in this case 946. \n",
        "It is prefixed with 'f' \n",
        "and the entire expression is in single quote''.\n",
        "\"\"\""
      ],
      "metadata": {
        "id": "CDq9HYbIqSBf",
        "colab": {
          "base_uri": "https://localhost:8080/"
        },
        "outputId": "dde97be2-cfdd-4311-d267-6f666a8ab6b6"
      },
      "execution_count": null,
      "outputs": [
        {
          "output_type": "stream",
          "name": "stdout",
          "text": [
            "The area of a rectangle 946  meters squared\n"
          ]
        }
      ]
    },
    {
      "cell_type": "code",
      "source": [],
      "metadata": {
        "id": "gdLlpd0DqR-N"
      },
      "execution_count": null,
      "outputs": []
    }
  ]
}