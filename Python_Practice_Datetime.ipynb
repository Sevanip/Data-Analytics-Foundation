{
  "cells": [
    {
      "cell_type": "markdown",
      "metadata": {
        "id": "view-in-github",
        "colab_type": "text"
      },
      "source": [
        "<a href=\"https://colab.research.google.com/github/Sevanip/Data-Analytics-Foundation/blob/main/Python_Practice_Datetime.ipynb\" target=\"_parent\"><img src=\"https://colab.research.google.com/assets/colab-badge.svg\" alt=\"Open In Colab\"/></a>"
      ]
    },
    {
      "cell_type": "markdown",
      "metadata": {
        "id": "JPFycxMoWPKJ"
      },
      "source": [
        "# Display the current date and time"
      ]
    },
    {
      "cell_type": "code",
      "execution_count": null,
      "metadata": {
        "id": "Z9D7nmOkWt-I"
      },
      "outputs": [],
      "source": [
        "import datetime #In this line we are importing the datetime library. The datetime module supplies classes for manipulating dates and times."
      ]
    },
    {
      "cell_type": "code",
      "execution_count": null,
      "metadata": {
        "id": "4uLzw2oBWt1h"
      },
      "outputs": [],
      "source": [
        "right_now = datetime.datetime.now() \n",
        "'''right_now is the name i am assigning to my variable. now() function Return the current local date and \n",
        "time, which is defined under datetime module.\n",
        "the dot(.) operator indicates you are accessing data or behaviors for a particular object type.\n",
        "When you use dot notation, you indicate to Python that you want to either run a particular operation on, or \n",
        "to access a particular property of, an object type.\n",
        "'''"
      ]
    },
    {
      "cell_type": "code",
      "execution_count": null,
      "metadata": {
        "colab": {
          "base_uri": "https://localhost:8080/"
        },
        "id": "bWmGFmY-WtvY",
        "outputId": "60e98578-ec7c-4629-ceb4-7c55dba35045"
      },
      "outputs": [
        {
          "name": "stdout",
          "output_type": "stream",
          "text": [
            "The current date and time is: 22-11-01 22:47:03\n"
          ]
        }
      ],
      "source": [
        "print(f'The current date and time is: {right_now.strftime(\"%y-%m-%d %H:%M:%S\")}') \n",
        "'''\n",
        "F-string (f) - F-strings provide a way to embed expressions inside string literals, using a minimal syntax. in {} i call my right_now \n",
        "variable and strftime is used to convert date and time objects to their string representation. and in() is the format i want the date and time\n",
        "to be returned\n",
        "'''"
      ]
    },
    {
      "cell_type": "markdown",
      "metadata": {
        "id": "JPH2RAsyWtsF"
      },
      "source": [
        "#Return the count of a given substring from a string"
      ]
    },
    {
      "cell_type": "code",
      "execution_count": null,
      "metadata": {
        "colab": {
          "base_uri": "https://localhost:8080/"
        },
        "id": "BvpO7uFsWto7",
        "outputId": "e479dc5b-a950-4b53-cbe8-fdac14d9a5f5"
      },
      "outputs": [
        {
          "name": "stdout",
          "output_type": "stream",
          "text": [
            "The word appears 2 time\n"
          ]
        }
      ],
      "source": [
        "x = 'Bacon is hot. Bacon is Delicious' \n",
        "\"\"\" \n",
        "here i am assigning a variable called x and assing it a sting value \"Bacon is hot. Bacon is Delicious\n",
        "\"\"\"\n",
        "count = x.count('Bacon')\n",
        "\"\"\"\n",
        "Here i am assigning another variable calling it count and the value i am assigning it are .count built in method in python to cound and\n",
        "i want it to count from the x varibale i created above so x.count and in () is the specific word i want to be counted. So how many time 'Bacon'\n",
        "appeared in x.\n",
        "\"\"\"\n",
        "print(f'The word appears {count} time') #i am using pring to return the value of the count variable."
      ]
    },
    {
      "cell_type": "code",
      "execution_count": null,
      "metadata": {
        "id": "au1_tm7NWtlF"
      },
      "outputs": [],
      "source": [
        "def count_word(word):\n",
        "  print('Given the string: ', word)\n",
        "  count = 0\n",
        "  for i in range(len(word) - 1):\n",
        "    count += word[i:i + 5] == 'Bacon' # 5 is the number of characters in the word Bacon\n",
        "  return count"
      ]
    },
    {
      "cell_type": "code",
      "execution_count": null,
      "metadata": {
        "colab": {
          "base_uri": "https://localhost:8080/"
        },
        "id": "BsshYqMeWth5",
        "outputId": "b186718c-6de8-4a3d-e541-8681dba0d1b6"
      },
      "outputs": [
        {
          "output_type": "stream",
          "name": "stdout",
          "text": [
            "Given the string:  Bacon is hot. Bacon is Delicious\n",
            "the word Bacon appeared 2 times\n"
          ]
        }
      ],
      "source": [
        "x = count_word('Bacon is hot. Bacon is Delicious')\n",
        "print('the word Bacon appeared', count, 'times')"
      ]
    },
    {
      "cell_type": "markdown",
      "source": [
        "##Display number divisible by 5 from a list"
      ],
      "metadata": {
        "id": "bOBm0IZuWteh"
      }
    },
    {
      "cell_type": "code",
      "execution_count": null,
      "metadata": {
        "id": "-yqhRIwwWtUH"
      },
      "outputs": [],
      "source": [
        "nums = [4, 5, 23, 25, 30, 32, 35, 41, 45, 50] #here i created a variable called nums and assigned it a list of numbers"
      ]
    },
    {
      "cell_type": "code",
      "source": [
        "for x in nums:\n",
        "  if(x%5==0):\n",
        "   print(x)\n",
        "  '''\n",
        "i want to display only number divisible by 5 from nums. so i used a for loop. In line 1 x will represent every number in nums. \n",
        "line 2 is an if statement so if x/5 and the remainder is xero then line 3 print that number. the code will automatically skip numbers that do \n",
        "not divide by 5 with a remainder other than 0.\n",
        "  '''"
      ],
      "metadata": {
        "colab": {
          "base_uri": "https://localhost:8080/"
        },
        "id": "Hbu2dTPnc7uf",
        "outputId": "18e571bc-da8d-4c03-98d2-76519811fca2"
      },
      "execution_count": null,
      "outputs": [
        {
          "output_type": "stream",
          "name": "stdout",
          "text": [
            "5\n",
            "25\n",
            "30\n",
            "35\n",
            "45\n",
            "50\n"
          ]
        }
      ]
    },
    {
      "cell_type": "code",
      "source": [
        "num_list = range(1, 500)\n",
        "for x in num_list:\n",
        "  if(x%100 == 0):\n",
        "    print(x)"
      ],
      "metadata": {
        "colab": {
          "base_uri": "https://localhost:8080/"
        },
        "id": "t7VPgegec7JF",
        "outputId": "24e67086-193b-4ffa-da77-a35897fd19eb"
      },
      "execution_count": null,
      "outputs": [
        {
          "output_type": "stream",
          "name": "stdout",
          "text": [
            "100\n",
            "200\n",
            "300\n",
            "400\n"
          ]
        }
      ]
    },
    {
      "cell_type": "markdown",
      "source": [
        "#write a program to print the calendar of a given year and month\n"
      ],
      "metadata": {
        "id": "kk0omZEkWtQ7"
      }
    },
    {
      "cell_type": "code",
      "execution_count": null,
      "metadata": {
        "id": "Kynd1llOWtN8"
      },
      "outputs": [],
      "source": [
        "import calendar # import calendar module"
      ]
    },
    {
      "cell_type": "code",
      "execution_count": null,
      "metadata": {
        "id": "DQ-IaIY5WtLS"
      },
      "outputs": [],
      "source": [
        "year = 1991 #pick a year, or use requested year"
      ]
    },
    {
      "cell_type": "code",
      "execution_count": null,
      "metadata": {
        "id": "hVHspQIMWtIH",
        "colab": {
          "base_uri": "https://localhost:8080/"
        },
        "outputId": "df11d5c6-e3b2-4a67-b0b3-1d8325244d58"
      },
      "outputs": [
        {
          "output_type": "stream",
          "name": "stdout",
          "text": [
            "                                  1991\n",
            "\n",
            "      January                   February                   March\n",
            "Mo Tu We Th Fr Sa Su      Mo Tu We Th Fr Sa Su      Mo Tu We Th Fr Sa Su\n",
            "    1  2  3  4  5  6                   1  2  3                   1  2  3\n",
            " 7  8  9 10 11 12 13       4  5  6  7  8  9 10       4  5  6  7  8  9 10\n",
            "14 15 16 17 18 19 20      11 12 13 14 15 16 17      11 12 13 14 15 16 17\n",
            "21 22 23 24 25 26 27      18 19 20 21 22 23 24      18 19 20 21 22 23 24\n",
            "28 29 30 31               25 26 27 28               25 26 27 28 29 30 31\n",
            "\n",
            "       April                      May                       June\n",
            "Mo Tu We Th Fr Sa Su      Mo Tu We Th Fr Sa Su      Mo Tu We Th Fr Sa Su\n",
            " 1  2  3  4  5  6  7             1  2  3  4  5                      1  2\n",
            " 8  9 10 11 12 13 14       6  7  8  9 10 11 12       3  4  5  6  7  8  9\n",
            "15 16 17 18 19 20 21      13 14 15 16 17 18 19      10 11 12 13 14 15 16\n",
            "22 23 24 25 26 27 28      20 21 22 23 24 25 26      17 18 19 20 21 22 23\n",
            "29 30                     27 28 29 30 31            24 25 26 27 28 29 30\n",
            "\n",
            "        July                     August                  September\n",
            "Mo Tu We Th Fr Sa Su      Mo Tu We Th Fr Sa Su      Mo Tu We Th Fr Sa Su\n",
            " 1  2  3  4  5  6  7                1  2  3  4                         1\n",
            " 8  9 10 11 12 13 14       5  6  7  8  9 10 11       2  3  4  5  6  7  8\n",
            "15 16 17 18 19 20 21      12 13 14 15 16 17 18       9 10 11 12 13 14 15\n",
            "22 23 24 25 26 27 28      19 20 21 22 23 24 25      16 17 18 19 20 21 22\n",
            "29 30 31                  26 27 28 29 30 31         23 24 25 26 27 28 29\n",
            "                                                    30\n",
            "\n",
            "      October                   November                  December\n",
            "Mo Tu We Th Fr Sa Su      Mo Tu We Th Fr Sa Su      Mo Tu We Th Fr Sa Su\n",
            "    1  2  3  4  5  6                   1  2  3                         1\n",
            " 7  8  9 10 11 12 13       4  5  6  7  8  9 10       2  3  4  5  6  7  8\n",
            "14 15 16 17 18 19 20      11 12 13 14 15 16 17       9 10 11 12 13 14 15\n",
            "21 22 23 24 25 26 27      18 19 20 21 22 23 24      16 17 18 19 20 21 22\n",
            "28 29 30 31               25 26 27 28 29 30         23 24 25 26 27 28 29\n",
            "                                                    30 31\n",
            "\n"
          ]
        }
      ],
      "source": [
        "print(calendar.calendar(year)) #Print the calendar"
      ]
    },
    {
      "cell_type": "code",
      "source": [
        "year = int(input(\"input the year: \")) # the input() will promt the user to enter a year. Since input are strings int is used to conver it to \n",
        "## integer.\n",
        "month = int(input(\"input the month: \")) # the input() will promt the user to enter a year. Since input are strings int is used to conver it to \n",
        "## integer.\n",
        "print(calendar.month(year, month)) # print(calendar.month(1991, 4)) would give same result"
      ],
      "metadata": {
        "colab": {
          "base_uri": "https://localhost:8080/"
        },
        "id": "ZxWu3NlsimzL",
        "outputId": "43a3322f-6ac7-4ac0-f8cb-8f34f549a406"
      },
      "execution_count": null,
      "outputs": [
        {
          "output_type": "stream",
          "name": "stdout",
          "text": [
            "input the year: 1991\n",
            "input the month: 4\n",
            "     April 1991\n",
            "Mo Tu We Th Fr Sa Su\n",
            " 1  2  3  4  5  6  7\n",
            " 8  9 10 11 12 13 14\n",
            "15 16 17 18 19 20 21\n",
            "22 23 24 25 26 27 28\n",
            "29 30\n",
            "\n"
          ]
        }
      ]
    },
    {
      "cell_type": "markdown",
      "source": [
        "# Write a python program to calculate the volume of a sphere"
      ],
      "metadata": {
        "id": "4a4js_H4ioj0"
      }
    },
    {
      "cell_type": "code",
      "source": [
        "## Here we are asked to write a program to calculate the volume of a sphere. There are many ways to do this. Below is just a few.\n",
        "## it helps to know the formula: sphere_vol = (4/3)*22/7*r**3"
      ],
      "metadata": {
        "id": "sibeHXvViogh"
      },
      "execution_count": null,
      "outputs": []
    },
    {
      "cell_type": "code",
      "source": [
        "radius= int(input()) # here i created a variable 'radius' and instead of assigning it a value myself i assigned it an input() so that the user can enter the radius themselves.\n",
        "pi=3.14 # here is another variable pie which has a vaule of 3.14\n",
        "volume=(4.0/3.0)*pi*(radius**3) #here the the volume of a spere formula assigned to a variable. it contains my two variabe from about radius & pie.\n",
        "print(\"volume of the sphere=\"+str(volume)) #when i print the 'volume' the code will promt user to enter a radius and then calculate volume based on the operations we assigned it. "
      ],
      "metadata": {
        "colab": {
          "base_uri": "https://localhost:8080/"
        },
        "id": "J5rIKIxXioZ8",
        "outputId": "91a24854-933a-4fc9-ed14-6f06bb731bce"
      },
      "execution_count": null,
      "outputs": [
        {
          "output_type": "stream",
          "name": "stdout",
          "text": [
            "12\n",
            "volume of the sphere=7241.14285714944\n"
          ]
        }
      ]
    },
    {
      "cell_type": "markdown",
      "source": [
        "#Version 2"
      ],
      "metadata": {
        "id": "HN4JUAeJioSn"
      }
    },
    {
      "cell_type": "code",
      "source": [
        "def volume(r): # here we are finding the volume of a sphere by defining a function called volume and in (r) i can enter to value for radius here. \n",
        "  pi = 3.14 # this line i created my variable named pi and we assing it the value of pi, 3.14\n",
        "  v = 4.0/3.0*pi*r**3 # here is another variable v which contains the formula for vol of a sphere. \n",
        "  return v #here i am asking to return the value of 'v' whenever i call my function 'volume'"
      ],
      "metadata": {
        "id": "Mnqcn7xyioQD"
      },
      "execution_count": null,
      "outputs": []
    },
    {
      "cell_type": "code",
      "source": [
        "volume(6) # here i am calling the function 'volume' with r = 6."
      ],
      "metadata": {
        "colab": {
          "base_uri": "https://localhost:8080/"
        },
        "id": "fToJr-bkioMY",
        "outputId": "53a3f79d-a4d8-4bff-d420-519499227c9a"
      },
      "execution_count": null,
      "outputs": [
        {
          "output_type": "execute_result",
          "data": {
            "text/plain": [
              "904.3199999999999"
            ]
          },
          "metadata": {},
          "execution_count": 31
        }
      ]
    },
    {
      "cell_type": "code",
      "source": [
        "x = int(input('Enter a number for the radius: ')) \n",
        "print(f'The volume of a sphere with radius {x} is {volume(x)}')"
      ],
      "metadata": {
        "colab": {
          "base_uri": "https://localhost:8080/"
        },
        "id": "2F7Aedq9ioJO",
        "outputId": "a287ae89-1da1-4830-bb8e-d9f544171c1e"
      },
      "execution_count": null,
      "outputs": [
        {
          "output_type": "stream",
          "name": "stdout",
          "text": [
            "Enter a number for the radius: 6\n",
            "The volume of a sphere with radius 6 is 904.3199999999999\n"
          ]
        }
      ]
    },
    {
      "cell_type": "markdown",
      "source": [
        "# Input an integer(n) and computes the value of n+nn+nnn"
      ],
      "metadata": {
        "id": "GAEPTEs7ioFn"
      }
    },
    {
      "cell_type": "code",
      "source": [
        "x = int(input()) # here i created a variable 'x' and assigned in an input value for user to enter a number.\n",
        "print(x+x**2+x**3) "
      ],
      "metadata": {
        "colab": {
          "base_uri": "https://localhost:8080/"
        },
        "id": "v5KhZ9QiioB7",
        "outputId": "1196a5d0-bfcb-4a40-ba7c-7ac9a529be64"
      },
      "execution_count": null,
      "outputs": [
        {
          "output_type": "stream",
          "name": "stdout",
          "text": [
            "20\n",
            "8420\n"
          ]
        }
      ]
    },
    {
      "cell_type": "code",
      "source": [
        "n=int(input(\"Enter a number n: \"))\n",
        "temp=n\n",
        "t1=temp**2\n",
        "t2=temp**3\n",
        "comp=n+int(t1)+int(t2)\n",
        "print(\"The value is:\",comp)\n",
        "\n",
        "# this is just another way to do the same exercise above"
      ],
      "metadata": {
        "colab": {
          "base_uri": "https://localhost:8080/"
        },
        "id": "58145BxMin6I",
        "outputId": "a42ff783-dded-4d49-fbb5-8d6172f92f2a"
      },
      "execution_count": null,
      "outputs": [
        {
          "output_type": "stream",
          "name": "stdout",
          "text": [
            "Enter a number n: 20\n",
            "The value is: 8420\n"
          ]
        }
      ]
    },
    {
      "cell_type": "code",
      "source": [
        "p = int(input('Enter a number: '))\n",
        "print(f'the number `p` entered is {p} \\nThe computation of `p+pp+ppp` is: {p +p**2 + p**3}')\n",
        "\n",
        "# this is almost same as the first just with strings/text. "
      ],
      "metadata": {
        "colab": {
          "base_uri": "https://localhost:8080/"
        },
        "id": "IUWINvb7inwT",
        "outputId": "6baf02f2-6741-4d24-ec97-3d01924b4af6"
      },
      "execution_count": null,
      "outputs": [
        {
          "output_type": "stream",
          "name": "stdout",
          "text": [
            "Enter a number: 20\n",
            "the number `p` entered is 20 \n",
            "The computation of `p+pp+ppp` is: 8420\n"
          ]
        }
      ]
    }
  ],
  "metadata": {
    "colab": {
      "provenance": [],
      "authorship_tag": "ABX9TyPLmtc2LutumtbiwgDLPXnr",
      "include_colab_link": true
    },
    "kernelspec": {
      "display_name": "Python 3",
      "name": "python3"
    },
    "language_info": {
      "name": "python"
    }
  },
  "nbformat": 4,
  "nbformat_minor": 0
}